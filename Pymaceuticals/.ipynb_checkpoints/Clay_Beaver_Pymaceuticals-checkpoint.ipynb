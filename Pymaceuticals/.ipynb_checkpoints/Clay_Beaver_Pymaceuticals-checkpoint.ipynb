{
 "cells": [
  {
   "cell_type": "markdown",
   "metadata": {},
   "source": [
    "## Observations and Insights "
   ]
  },
  {
   "cell_type": "code",
   "execution_count": 1,
   "metadata": {},
   "outputs": [],
   "source": [
    "# Look across all previously generated figures and tables and write at least \n",
    "# ...three observations or inferences that can be made from the data. \n",
    "\n",
    "# 1. Based on the generated Line plot, we observe that the mouse treated with\n",
    "#    Capomulin has seen a significant decrease in Tumor Volume over time. This\n",
    "#    leads us to believe the Drug Regimen Capomulin has positive effects in \n",
    "#    treating the SCC tumor growth.\n",
    "\n",
    "# 2. Based on our correlation and regression model, we can observe that the \n",
    "#    Tumor Volume has a strong positive correlation with the Mouse Weight.\n",
    "#    This tells us that a heavier mouse usually has a larger tumor.  This is\n",
    "#    important imformation to have becuase weight loss could be directly\n",
    "#    associated with a drop in Tumor Size over the course of the study.\n",
    "\n",
    "# 3. If we observe the Bar Plot titled \"Number of Mice per Timepoint for each \n",
    "#    Treatment Regimen\", we can perform a quick analysis on the potential \n",
    "#    success or failure of each treatment base on surviving mice at the end\n",
    "#    time point.  Just because a mouse survives does not mean the treatment was\n",
    "#    successful, but it does provide data that the medicine hasn't caused life-\n",
    "#    threatening side effects. At a quick glance, we can see that nearly all of\n",
    "#    the mice survived the Capomulin and Ramicane treatments at time point 45.\n",
    "#    We also notice Propriva had the lowest survival rate, with only 7 mice\n",
    "#    alive at time point 45."
   ]
  },
  {
   "cell_type": "markdown",
   "metadata": {},
   "source": []
  },
  {
   "cell_type": "code",
   "execution_count": 2,
   "metadata": {},
   "outputs": [],
   "source": [
    "# Dependencies and Setup\n",
    "import matplotlib.pyplot as plt\n",
    "import pandas as pd\n",
    "import scipy.stats as st\n",
    "import numpy as np\n",
    "from scipy.stats import linregress\n",
    "from pylab import rcParams\n",
    "\n",
    "# Study data files\n",
    "mouse_metadata_path = \"data/Mouse_metadata.csv\"\n",
    "study_results_path = \"data/Study_results.csv\"\n",
    "\n",
    "# Read the mouse data and the study results\n",
    "mouse_metadata = pd.read_csv(mouse_metadata_path)\n",
    "study_results = pd.read_csv(study_results_path)\n",
    "\n",
    "# Combine the data into a single dataset\n",
    "combined_dataset = pd.merge(mouse_metadata, study_results,\n",
    "                           how = 'outer', on = 'Mouse ID')"
   ]
  },
  {
   "cell_type": "code",
   "execution_count": 3,
   "metadata": {},
   "outputs": [
    {
     "name": "stdout",
     "output_type": "stream",
     "text": [
      "There are 249 unique Mice in the DataFrame\n",
      "There are 1893 lines in the DataFrame\n"
     ]
    }
   ],
   "source": [
    "# Checking the number of mice in the DataFrame.\n",
    "print(f'There are {combined_dataset[\"Mouse ID\"].nunique()} unique Mice in the DataFrame')\n",
    "print(f'There are {combined_dataset[\"Mouse ID\"].count()} lines in the DataFrame')"
   ]
  },
  {
   "cell_type": "code",
   "execution_count": 4,
   "metadata": {},
   "outputs": [
    {
     "name": "stdout",
     "output_type": "stream",
     "text": [
      "Duplicate Mice by ID number include: ['g989']\n"
     ]
    }
   ],
   "source": [
    "# Getting the duplicate mice by ID number that shows up for Mouse ID and Timepoint. \n",
    "dupe_mice = combined_dataset[combined_dataset.duplicated(['Mouse ID', \n",
    "                                                         'Timepoint'])]\n",
    "print(f'Duplicate Mice by ID number include: {dupe_mice[\"Mouse ID\"].unique()}')"
   ]
  },
  {
   "cell_type": "code",
   "execution_count": 5,
   "metadata": {},
   "outputs": [
    {
     "name": "stdout",
     "output_type": "stream",
     "text": [
      "Duplicate Mice with full data include:\n",
      "    Mouse ID Drug Regimen     Sex  Age_months  Weight (g)  Timepoint  \\\n",
      "909     g989     Propriva  Female          21          26          0   \n",
      "911     g989     Propriva  Female          21          26          5   \n",
      "913     g989     Propriva  Female          21          26         10   \n",
      "915     g989     Propriva  Female          21          26         15   \n",
      "917     g989     Propriva  Female          21          26         20   \n",
      "\n",
      "     Tumor Volume (mm3)  Metastatic Sites  \n",
      "909           45.000000                 0  \n",
      "911           47.570392                 0  \n",
      "913           49.880528                 0  \n",
      "915           53.442020                 0  \n",
      "917           54.657650                 1  \n"
     ]
    }
   ],
   "source": [
    "# Optional: Get all the data for the duplicate mouse ID. \n",
    "print('Duplicate Mice with full data include:')\n",
    "print(dupe_mice)"
   ]
  },
  {
   "cell_type": "code",
   "execution_count": 6,
   "metadata": {},
   "outputs": [],
   "source": [
    "# Create a clean DataFrame by dropping the duplicate mouse by its ID.\n",
    "cleanmouse_df = combined_dataset.drop_duplicates(['Mouse ID', 'Timepoint'],\n",
    "                                                 keep = 'first')"
   ]
  },
  {
   "cell_type": "code",
   "execution_count": 7,
   "metadata": {},
   "outputs": [
    {
     "name": "stdout",
     "output_type": "stream",
     "text": [
      "There are 249 unique Mice in the DataFrame\n",
      "There are 1888 lines in the DataFrame\n"
     ]
    }
   ],
   "source": [
    "# Checking the number of mice in the clean DataFrame.\n",
    "print(f'There are {cleanmouse_df[\"Mouse ID\"].nunique()} unique Mice in the DataFrame')\n",
    "print(f'There are {cleanmouse_df[\"Mouse ID\"].count()} lines in the DataFrame')"
   ]
  },
  {
   "cell_type": "markdown",
   "metadata": {},
   "source": [
    "## Summary Statistics"
   ]
  },
  {
   "cell_type": "code",
   "execution_count": 8,
   "metadata": {},
   "outputs": [
    {
     "data": {
      "text/html": [
       "<div>\n",
       "<style scoped>\n",
       "    .dataframe tbody tr th:only-of-type {\n",
       "        vertical-align: middle;\n",
       "    }\n",
       "\n",
       "    .dataframe tbody tr th {\n",
       "        vertical-align: top;\n",
       "    }\n",
       "\n",
       "    .dataframe thead th {\n",
       "        text-align: right;\n",
       "    }\n",
       "</style>\n",
       "<table border=\"1\" class=\"dataframe\">\n",
       "  <thead>\n",
       "    <tr style=\"text-align: right;\">\n",
       "      <th></th>\n",
       "      <th>count</th>\n",
       "      <th>mean</th>\n",
       "      <th>std</th>\n",
       "      <th>min</th>\n",
       "      <th>25%</th>\n",
       "      <th>50%</th>\n",
       "      <th>75%</th>\n",
       "      <th>max</th>\n",
       "    </tr>\n",
       "    <tr>\n",
       "      <th>Drug Regimen</th>\n",
       "      <th></th>\n",
       "      <th></th>\n",
       "      <th></th>\n",
       "      <th></th>\n",
       "      <th></th>\n",
       "      <th></th>\n",
       "      <th></th>\n",
       "      <th></th>\n",
       "    </tr>\n",
       "  </thead>\n",
       "  <tbody>\n",
       "    <tr>\n",
       "      <th>Capomulin</th>\n",
       "      <td>230.0</td>\n",
       "      <td>40.675741</td>\n",
       "      <td>4.994774</td>\n",
       "      <td>23.343598</td>\n",
       "      <td>37.685933</td>\n",
       "      <td>41.557809</td>\n",
       "      <td>45.000000</td>\n",
       "      <td>48.158209</td>\n",
       "    </tr>\n",
       "    <tr>\n",
       "      <th>Ceftamin</th>\n",
       "      <td>178.0</td>\n",
       "      <td>52.591172</td>\n",
       "      <td>6.268188</td>\n",
       "      <td>45.000000</td>\n",
       "      <td>47.208427</td>\n",
       "      <td>51.776157</td>\n",
       "      <td>56.801438</td>\n",
       "      <td>68.923185</td>\n",
       "    </tr>\n",
       "    <tr>\n",
       "      <th>Infubinol</th>\n",
       "      <td>178.0</td>\n",
       "      <td>52.884795</td>\n",
       "      <td>6.567243</td>\n",
       "      <td>36.321346</td>\n",
       "      <td>47.312353</td>\n",
       "      <td>51.820584</td>\n",
       "      <td>57.314444</td>\n",
       "      <td>72.226731</td>\n",
       "    </tr>\n",
       "    <tr>\n",
       "      <th>Ketapril</th>\n",
       "      <td>188.0</td>\n",
       "      <td>55.235638</td>\n",
       "      <td>8.279709</td>\n",
       "      <td>45.000000</td>\n",
       "      <td>48.232987</td>\n",
       "      <td>53.698743</td>\n",
       "      <td>60.870951</td>\n",
       "      <td>78.567014</td>\n",
       "    </tr>\n",
       "    <tr>\n",
       "      <th>Naftisol</th>\n",
       "      <td>186.0</td>\n",
       "      <td>54.331565</td>\n",
       "      <td>8.134708</td>\n",
       "      <td>45.000000</td>\n",
       "      <td>47.285874</td>\n",
       "      <td>52.509285</td>\n",
       "      <td>59.963034</td>\n",
       "      <td>76.668817</td>\n",
       "    </tr>\n",
       "    <tr>\n",
       "      <th>Placebo</th>\n",
       "      <td>181.0</td>\n",
       "      <td>54.033581</td>\n",
       "      <td>7.821003</td>\n",
       "      <td>45.000000</td>\n",
       "      <td>47.459053</td>\n",
       "      <td>52.288934</td>\n",
       "      <td>59.916934</td>\n",
       "      <td>73.212939</td>\n",
       "    </tr>\n",
       "    <tr>\n",
       "      <th>Propriva</th>\n",
       "      <td>156.0</td>\n",
       "      <td>52.393463</td>\n",
       "      <td>6.568014</td>\n",
       "      <td>45.000000</td>\n",
       "      <td>47.046068</td>\n",
       "      <td>50.909965</td>\n",
       "      <td>56.491585</td>\n",
       "      <td>72.455421</td>\n",
       "    </tr>\n",
       "    <tr>\n",
       "      <th>Ramicane</th>\n",
       "      <td>228.0</td>\n",
       "      <td>40.216745</td>\n",
       "      <td>4.846308</td>\n",
       "      <td>22.050126</td>\n",
       "      <td>36.674635</td>\n",
       "      <td>40.673236</td>\n",
       "      <td>45.000000</td>\n",
       "      <td>47.622816</td>\n",
       "    </tr>\n",
       "    <tr>\n",
       "      <th>Stelasyn</th>\n",
       "      <td>181.0</td>\n",
       "      <td>54.233149</td>\n",
       "      <td>7.710419</td>\n",
       "      <td>45.000000</td>\n",
       "      <td>48.047139</td>\n",
       "      <td>52.431737</td>\n",
       "      <td>58.719297</td>\n",
       "      <td>75.123690</td>\n",
       "    </tr>\n",
       "    <tr>\n",
       "      <th>Zoniferol</th>\n",
       "      <td>182.0</td>\n",
       "      <td>53.236507</td>\n",
       "      <td>6.966589</td>\n",
       "      <td>45.000000</td>\n",
       "      <td>47.337876</td>\n",
       "      <td>51.818479</td>\n",
       "      <td>57.954259</td>\n",
       "      <td>73.324432</td>\n",
       "    </tr>\n",
       "  </tbody>\n",
       "</table>\n",
       "</div>"
      ],
      "text/plain": [
       "              count       mean       std        min        25%        50%  \\\n",
       "Drug Regimen                                                                \n",
       "Capomulin     230.0  40.675741  4.994774  23.343598  37.685933  41.557809   \n",
       "Ceftamin      178.0  52.591172  6.268188  45.000000  47.208427  51.776157   \n",
       "Infubinol     178.0  52.884795  6.567243  36.321346  47.312353  51.820584   \n",
       "Ketapril      188.0  55.235638  8.279709  45.000000  48.232987  53.698743   \n",
       "Naftisol      186.0  54.331565  8.134708  45.000000  47.285874  52.509285   \n",
       "Placebo       181.0  54.033581  7.821003  45.000000  47.459053  52.288934   \n",
       "Propriva      156.0  52.393463  6.568014  45.000000  47.046068  50.909965   \n",
       "Ramicane      228.0  40.216745  4.846308  22.050126  36.674635  40.673236   \n",
       "Stelasyn      181.0  54.233149  7.710419  45.000000  48.047139  52.431737   \n",
       "Zoniferol     182.0  53.236507  6.966589  45.000000  47.337876  51.818479   \n",
       "\n",
       "                    75%        max  \n",
       "Drug Regimen                        \n",
       "Capomulin     45.000000  48.158209  \n",
       "Ceftamin      56.801438  68.923185  \n",
       "Infubinol     57.314444  72.226731  \n",
       "Ketapril      60.870951  78.567014  \n",
       "Naftisol      59.963034  76.668817  \n",
       "Placebo       59.916934  73.212939  \n",
       "Propriva      56.491585  72.455421  \n",
       "Ramicane      45.000000  47.622816  \n",
       "Stelasyn      58.719297  75.123690  \n",
       "Zoniferol     57.954259  73.324432  "
      ]
     },
     "execution_count": 8,
     "metadata": {},
     "output_type": "execute_result"
    }
   ],
   "source": [
    "regimen_df = cleanmouse_df.groupby(['Drug Regimen'])\n",
    "regimen_df['Tumor Volume (mm3)'].describe()"
   ]
  },
  {
   "cell_type": "code",
   "execution_count": 9,
   "metadata": {
    "scrolled": true
   },
   "outputs": [
    {
     "data": {
      "text/html": [
       "<div>\n",
       "<style scoped>\n",
       "    .dataframe tbody tr th:only-of-type {\n",
       "        vertical-align: middle;\n",
       "    }\n",
       "\n",
       "    .dataframe tbody tr th {\n",
       "        vertical-align: top;\n",
       "    }\n",
       "\n",
       "    .dataframe thead th {\n",
       "        text-align: right;\n",
       "    }\n",
       "</style>\n",
       "<table border=\"1\" class=\"dataframe\">\n",
       "  <thead>\n",
       "    <tr style=\"text-align: right;\">\n",
       "      <th></th>\n",
       "      <th>Mean T.V.</th>\n",
       "      <th>Median T.V.</th>\n",
       "      <th>Variance of T.V.</th>\n",
       "      <th>Standard Deviation of T.V.</th>\n",
       "      <th>SEM of T.V.</th>\n",
       "    </tr>\n",
       "    <tr>\n",
       "      <th>Drug Regimen</th>\n",
       "      <th></th>\n",
       "      <th></th>\n",
       "      <th></th>\n",
       "      <th></th>\n",
       "      <th></th>\n",
       "    </tr>\n",
       "  </thead>\n",
       "  <tbody>\n",
       "    <tr>\n",
       "      <th>Capomulin</th>\n",
       "      <td>40.675741</td>\n",
       "      <td>41.557809</td>\n",
       "      <td>24.947764</td>\n",
       "      <td>4.994774</td>\n",
       "      <td>0.329346</td>\n",
       "    </tr>\n",
       "    <tr>\n",
       "      <th>Ceftamin</th>\n",
       "      <td>52.591172</td>\n",
       "      <td>51.776157</td>\n",
       "      <td>39.290177</td>\n",
       "      <td>6.268188</td>\n",
       "      <td>0.469821</td>\n",
       "    </tr>\n",
       "    <tr>\n",
       "      <th>Infubinol</th>\n",
       "      <td>52.884795</td>\n",
       "      <td>51.820584</td>\n",
       "      <td>43.128684</td>\n",
       "      <td>6.567243</td>\n",
       "      <td>0.492236</td>\n",
       "    </tr>\n",
       "    <tr>\n",
       "      <th>Ketapril</th>\n",
       "      <td>55.235638</td>\n",
       "      <td>53.698743</td>\n",
       "      <td>68.553577</td>\n",
       "      <td>8.279709</td>\n",
       "      <td>0.603860</td>\n",
       "    </tr>\n",
       "    <tr>\n",
       "      <th>Naftisol</th>\n",
       "      <td>54.331565</td>\n",
       "      <td>52.509285</td>\n",
       "      <td>66.173479</td>\n",
       "      <td>8.134708</td>\n",
       "      <td>0.596466</td>\n",
       "    </tr>\n",
       "    <tr>\n",
       "      <th>Placebo</th>\n",
       "      <td>54.033581</td>\n",
       "      <td>52.288934</td>\n",
       "      <td>61.168083</td>\n",
       "      <td>7.821003</td>\n",
       "      <td>0.581331</td>\n",
       "    </tr>\n",
       "    <tr>\n",
       "      <th>Propriva</th>\n",
       "      <td>52.393463</td>\n",
       "      <td>50.909965</td>\n",
       "      <td>43.138803</td>\n",
       "      <td>6.568014</td>\n",
       "      <td>0.525862</td>\n",
       "    </tr>\n",
       "    <tr>\n",
       "      <th>Ramicane</th>\n",
       "      <td>40.216745</td>\n",
       "      <td>40.673236</td>\n",
       "      <td>23.486704</td>\n",
       "      <td>4.846308</td>\n",
       "      <td>0.320955</td>\n",
       "    </tr>\n",
       "    <tr>\n",
       "      <th>Stelasyn</th>\n",
       "      <td>54.233149</td>\n",
       "      <td>52.431737</td>\n",
       "      <td>59.450562</td>\n",
       "      <td>7.710419</td>\n",
       "      <td>0.573111</td>\n",
       "    </tr>\n",
       "    <tr>\n",
       "      <th>Zoniferol</th>\n",
       "      <td>53.236507</td>\n",
       "      <td>51.818479</td>\n",
       "      <td>48.533355</td>\n",
       "      <td>6.966589</td>\n",
       "      <td>0.516398</td>\n",
       "    </tr>\n",
       "  </tbody>\n",
       "</table>\n",
       "</div>"
      ],
      "text/plain": [
       "              Mean T.V.  Median T.V.  Variance of T.V.  \\\n",
       "Drug Regimen                                             \n",
       "Capomulin     40.675741    41.557809         24.947764   \n",
       "Ceftamin      52.591172    51.776157         39.290177   \n",
       "Infubinol     52.884795    51.820584         43.128684   \n",
       "Ketapril      55.235638    53.698743         68.553577   \n",
       "Naftisol      54.331565    52.509285         66.173479   \n",
       "Placebo       54.033581    52.288934         61.168083   \n",
       "Propriva      52.393463    50.909965         43.138803   \n",
       "Ramicane      40.216745    40.673236         23.486704   \n",
       "Stelasyn      54.233149    52.431737         59.450562   \n",
       "Zoniferol     53.236507    51.818479         48.533355   \n",
       "\n",
       "              Standard Deviation of T.V.  SEM of T.V.  \n",
       "Drug Regimen                                           \n",
       "Capomulin                       4.994774     0.329346  \n",
       "Ceftamin                        6.268188     0.469821  \n",
       "Infubinol                       6.567243     0.492236  \n",
       "Ketapril                        8.279709     0.603860  \n",
       "Naftisol                        8.134708     0.596466  \n",
       "Placebo                         7.821003     0.581331  \n",
       "Propriva                        6.568014     0.525862  \n",
       "Ramicane                        4.846308     0.320955  \n",
       "Stelasyn                        7.710419     0.573111  \n",
       "Zoniferol                       6.966589     0.516398  "
      ]
     },
     "execution_count": 9,
     "metadata": {},
     "output_type": "execute_result"
    }
   ],
   "source": [
    "# Generate a summary statistics table of mean, median, variance, standard deviation, and SEM of the tumor volume for each regimen\n",
    "# This method produces everything in a single groupby function.\n",
    "regimen_df = cleanmouse_df.groupby(['Drug Regimen'])\n",
    "average_reg = regimen_df['Tumor Volume (mm3)'].mean()\n",
    "meadian_reg = regimen_df['Tumor Volume (mm3)'].median()\n",
    "variance_reg = regimen_df['Tumor Volume (mm3)'].var()\n",
    "std_reg = regimen_df['Tumor Volume (mm3)'].std()\n",
    "sem_reg = regimen_df['Tumor Volume (mm3)'].sem()\n",
    "regimen_sst = pd.DataFrame({'Mean T.V.': average_reg,\n",
    "                            'Median T.V.': meadian_reg,\n",
    "                            'Variance of T.V.': variance_reg,\n",
    "                            'Standard Deviation of T.V.': std_reg,\n",
    "                            'SEM of T.V.': sem_reg\n",
    "                           })\n",
    "regimen_sst"
   ]
  },
  {
   "cell_type": "markdown",
   "metadata": {},
   "source": [
    "## Bar Plots"
   ]
  },
  {
   "cell_type": "code",
   "execution_count": 10,
   "metadata": {},
   "outputs": [
    {
     "data": {
      "image/png": "[encoded data removed]",
      "text/plain": [
       "<Figure size 720x360 with 1 Axes>"
      ]
     },
     "metadata": {
      "needs_background": "light"
     },
     "output_type": "display_data"
    }
   ],
   "source": [
    "# # Generate a bar plot showing the number of mice per time point for each\n",
    "# # ...treatment regimen throughout the course of the study using pandas.\n",
    "rcParams['figure.figsize'] = 10, 5\n",
    "count_chart = cleanmouse_df.groupby(['Drug Regimen', 'Timepoint']\n",
    "                ).count()['Mouse ID'].unstack().plot(kind = 'bar', rot = 60)\n",
    "count_chart.legend(bbox_to_anchor=(1.001, 1), loc='upper left', borderaxespad=0.)\n",
    "count_chart.set_xlabel('Treatment Regimen')\n",
    "count_chart.set_ylabel('Number of Mice')\n",
    "count_chart.set_title('Number of Mice per Timepoint for each Treatment Regimen')\n",
    "plt.show()"
   ]
  },
  {
   "cell_type": "code",
   "execution_count": 11,
   "metadata": {},
   "outputs": [
    {
     "data": {
      "text/html": [
       "<div>\n",
       "<style scoped>\n",
       "    .dataframe tbody tr th:only-of-type {\n",
       "        vertical-align: middle;\n",
       "    }\n",
       "\n",
       "    .dataframe tbody tr th {\n",
       "        vertical-align: top;\n",
       "    }\n",
       "\n",
       "    .dataframe thead th {\n",
       "        text-align: right;\n",
       "    }\n",
       "</style>\n",
       "<table border=\"1\" class=\"dataframe\">\n",
       "  <thead>\n",
       "    <tr style=\"text-align: right;\">\n",
       "      <th>Timepoint</th>\n",
       "      <th>0</th>\n",
       "      <th>5</th>\n",
       "      <th>10</th>\n",
       "      <th>15</th>\n",
       "      <th>20</th>\n",
       "      <th>25</th>\n",
       "      <th>30</th>\n",
       "      <th>35</th>\n",
       "      <th>40</th>\n",
       "      <th>45</th>\n",
       "    </tr>\n",
       "    <tr>\n",
       "      <th>Drug Regimen</th>\n",
       "      <th></th>\n",
       "      <th></th>\n",
       "      <th></th>\n",
       "      <th></th>\n",
       "      <th></th>\n",
       "      <th></th>\n",
       "      <th></th>\n",
       "      <th></th>\n",
       "      <th></th>\n",
       "      <th></th>\n",
       "    </tr>\n",
       "  </thead>\n",
       "  <tbody>\n",
       "    <tr>\n",
       "      <th>Capomulin</th>\n",
       "      <td>25</td>\n",
       "      <td>25</td>\n",
       "      <td>25</td>\n",
       "      <td>24</td>\n",
       "      <td>23</td>\n",
       "      <td>22</td>\n",
       "      <td>22</td>\n",
       "      <td>22</td>\n",
       "      <td>21</td>\n",
       "      <td>21</td>\n",
       "    </tr>\n",
       "    <tr>\n",
       "      <th>Ceftamin</th>\n",
       "      <td>25</td>\n",
       "      <td>21</td>\n",
       "      <td>20</td>\n",
       "      <td>19</td>\n",
       "      <td>18</td>\n",
       "      <td>18</td>\n",
       "      <td>16</td>\n",
       "      <td>14</td>\n",
       "      <td>14</td>\n",
       "      <td>13</td>\n",
       "    </tr>\n",
       "    <tr>\n",
       "      <th>Infubinol</th>\n",
       "      <td>25</td>\n",
       "      <td>25</td>\n",
       "      <td>21</td>\n",
       "      <td>21</td>\n",
       "      <td>20</td>\n",
       "      <td>18</td>\n",
       "      <td>17</td>\n",
       "      <td>12</td>\n",
       "      <td>10</td>\n",
       "      <td>9</td>\n",
       "    </tr>\n",
       "    <tr>\n",
       "      <th>Ketapril</th>\n",
       "      <td>25</td>\n",
       "      <td>23</td>\n",
       "      <td>22</td>\n",
       "      <td>19</td>\n",
       "      <td>19</td>\n",
       "      <td>19</td>\n",
       "      <td>18</td>\n",
       "      <td>17</td>\n",
       "      <td>15</td>\n",
       "      <td>11</td>\n",
       "    </tr>\n",
       "    <tr>\n",
       "      <th>Naftisol</th>\n",
       "      <td>25</td>\n",
       "      <td>23</td>\n",
       "      <td>21</td>\n",
       "      <td>21</td>\n",
       "      <td>20</td>\n",
       "      <td>18</td>\n",
       "      <td>15</td>\n",
       "      <td>15</td>\n",
       "      <td>15</td>\n",
       "      <td>13</td>\n",
       "    </tr>\n",
       "    <tr>\n",
       "      <th>Placebo</th>\n",
       "      <td>25</td>\n",
       "      <td>24</td>\n",
       "      <td>24</td>\n",
       "      <td>20</td>\n",
       "      <td>19</td>\n",
       "      <td>17</td>\n",
       "      <td>15</td>\n",
       "      <td>14</td>\n",
       "      <td>12</td>\n",
       "      <td>11</td>\n",
       "    </tr>\n",
       "    <tr>\n",
       "      <th>Propriva</th>\n",
       "      <td>25</td>\n",
       "      <td>24</td>\n",
       "      <td>22</td>\n",
       "      <td>16</td>\n",
       "      <td>16</td>\n",
       "      <td>14</td>\n",
       "      <td>13</td>\n",
       "      <td>10</td>\n",
       "      <td>9</td>\n",
       "      <td>7</td>\n",
       "    </tr>\n",
       "    <tr>\n",
       "      <th>Ramicane</th>\n",
       "      <td>25</td>\n",
       "      <td>25</td>\n",
       "      <td>24</td>\n",
       "      <td>24</td>\n",
       "      <td>23</td>\n",
       "      <td>23</td>\n",
       "      <td>23</td>\n",
       "      <td>21</td>\n",
       "      <td>20</td>\n",
       "      <td>20</td>\n",
       "    </tr>\n",
       "    <tr>\n",
       "      <th>Stelasyn</th>\n",
       "      <td>24</td>\n",
       "      <td>23</td>\n",
       "      <td>21</td>\n",
       "      <td>21</td>\n",
       "      <td>19</td>\n",
       "      <td>18</td>\n",
       "      <td>17</td>\n",
       "      <td>15</td>\n",
       "      <td>12</td>\n",
       "      <td>11</td>\n",
       "    </tr>\n",
       "    <tr>\n",
       "      <th>Zoniferol</th>\n",
       "      <td>25</td>\n",
       "      <td>24</td>\n",
       "      <td>22</td>\n",
       "      <td>21</td>\n",
       "      <td>17</td>\n",
       "      <td>16</td>\n",
       "      <td>15</td>\n",
       "      <td>14</td>\n",
       "      <td>14</td>\n",
       "      <td>14</td>\n",
       "    </tr>\n",
       "  </tbody>\n",
       "</table>\n",
       "</div>"
      ],
      "text/plain": [
       "Timepoint     0   5   10  15  20  25  30  35  40  45\n",
       "Drug Regimen                                        \n",
       "Capomulin     25  25  25  24  23  22  22  22  21  21\n",
       "Ceftamin      25  21  20  19  18  18  16  14  14  13\n",
       "Infubinol     25  25  21  21  20  18  17  12  10   9\n",
       "Ketapril      25  23  22  19  19  19  18  17  15  11\n",
       "Naftisol      25  23  21  21  20  18  15  15  15  13\n",
       "Placebo       25  24  24  20  19  17  15  14  12  11\n",
       "Propriva      25  24  22  16  16  14  13  10   9   7\n",
       "Ramicane      25  25  24  24  23  23  23  21  20  20\n",
       "Stelasyn      24  23  21  21  19  18  17  15  12  11\n",
       "Zoniferol     25  24  22  21  17  16  15  14  14  14"
      ]
     },
     "execution_count": 11,
     "metadata": {},
     "output_type": "execute_result"
    }
   ],
   "source": [
    "plot_data = cleanmouse_df.groupby(['Drug Regimen', 'Timepoint']\n",
    "                ).count()['Mouse ID'].unstack()\n",
    "plot_data"
   ]
  },
  {
   "cell_type": "code",
   "execution_count": 12,
   "metadata": {},
   "outputs": [
    {
     "data": {
      "image/png": "[encoded data removed]",
      "text/plain": [
       "<Figure size 720x360 with 1 Axes>"
      ]
     },
     "metadata": {
      "needs_background": "light"
     },
     "output_type": "display_data"
    }
   ],
   "source": [
    "# Generate a bar plot showing the number of mice per time point for each \n",
    "# ...treatment regimen throughout the course of the study using pyplot.\n",
    "bar_drug = ['Capomulin', 'Ceftamin', 'Infubinol', 'Ketapril', 'Naftisol',\n",
    "            'Placebo', 'Propriva', 'Ramicane', 'Stelasyn', 'Zoniferol']\n",
    "bar_capo = [25,25,25,24,23,22,22,22,21,21]\n",
    "bar_ceft = [25,21,20,19,18,18,16,14,14,13]\n",
    "bar_infu = [25,25,21,21,20,18,17,12,10,9]\n",
    "bar_keta = [25,23,22,19,19,19,18,17,15,11]\n",
    "bar_naft = [25,23,21,21,20,18,15,15,15,13]\n",
    "bar_plac = [25,24,24,20,19,17,15,14,12,11]\n",
    "bar_prop = [25,24,22,16,16,14,13,10,9,7]\n",
    "bar_rami = [25,25,24,24,23,23,23,21,20,20]\n",
    "bar_stel = [24,23,21,21,19,18,17,15,12,11]\n",
    "bar_zoni = [25,24,22,21,17,16,15,14,14,14]\n",
    "x_axis = np.arange(len(bar_drug))\n",
    "y_axis = [bar_capo, bar_ceft, bar_infu, bar_keta, bar_naft, bar_plac, bar_prop,\n",
    "          bar_rami, bar_stel, bar_zoni]\n",
    "plt.bar(x_axis, bar_capo, color='b', align='center')\n",
    "plt.show()\n",
    "# @*@*@ UNABLE TO FIGURE OUT HOW TO REPLICATE PANDAS CHART USING PYPLOT @*@*@*@"
   ]
  },
  {
   "cell_type": "markdown",
   "metadata": {},
   "source": [
    "## Pie Plots"
   ]
  },
  {
   "cell_type": "code",
   "execution_count": 13,
   "metadata": {},
   "outputs": [
    {
     "data": {
      "image/png": "[encoded data removed]",
      "text/plain": [
       "<Figure size 576x576 with 1 Axes>"
      ]
     },
     "metadata": {},
     "output_type": "display_data"
    }
   ],
   "source": [
    "# Generate a pie plot showing the distribution of female versus male mice using pandas\n",
    "rcParams['figure.figsize'] = 8, 8\n",
    "gender_data = cleanmouse_df.groupby(['Sex'])\n",
    "gender_py = gender_data[\"Mouse ID\"].nunique()\n",
    "gender_py.plot.pie()\n",
    "plt.title('Sex Distribution')\n",
    "plt.show()"
   ]
  },
  {
   "cell_type": "code",
   "execution_count": 14,
   "metadata": {},
   "outputs": [
    {
     "data": {
      "image/png": "[encoded data removed]",
      "text/plain": [
       "<Figure size 504x504 with 1 Axes>"
      ]
     },
     "metadata": {},
     "output_type": "display_data"
    }
   ],
   "source": [
    "# Generate a pie plot showing the distribution of female versus male mice using pyplot\n",
    "rcParams['figure.figsize'] = 7, 7\n",
    "gender_data = cleanmouse_df.groupby(['Sex'])\n",
    "gender_py = gender_data[\"Mouse ID\"].nunique()\n",
    "male_count = gender_py['Male']\n",
    "female_count = gender_py['Female']\n",
    "sex = ['Male', 'Female']\n",
    "sex_count = [male_count, female_count]\n",
    "colors = ['tab:orange', 'tab:blue']\n",
    "explode = (0,0)\n",
    "plt.pie(sex_count, explode = explode, labels = sex, colors = colors,\n",
    "        autopct = \"%1.2f%%\", startangle=180)\n",
    "plt.axis(\"equal\")\n",
    "plt.title('Sex Distribution')\n",
    "plt.show()"
   ]
  },
  {
   "cell_type": "markdown",
   "metadata": {},
   "source": [
    "## Quartiles, Outliers and Boxplots"
   ]
  },
  {
   "cell_type": "code",
   "execution_count": 16,
   "metadata": {},
   "outputs": [
    {
     "name": "stdout",
     "output_type": "stream",
     "text": [
      "-----------------------------\n",
      "Final Tumor Volume: Capomulin\n",
      "-----------------------------\n",
      "          Tumor Volume (mm3)\n",
      "Mouse ID                    \n",
      "s185               23.343598\n",
      "x401               28.484033\n",
      "m601               28.430964\n",
      "f966               30.485985\n",
      "u364               31.023923\n",
      "y793               31.896238\n",
      "r554               32.377357\n",
      "m957               33.329098\n",
      "t565               34.455298\n",
      "i738               37.311846\n",
      "w914               36.041047\n",
      "g288               37.074024\n",
      "l897               38.846876\n",
      "b742               38.939633\n",
      "b128               38.982878\n",
      "j246               38.753265\n",
      "j119               38.125164\n",
      "w150               39.952347\n",
      "v923               40.658124\n",
      "g316               40.159220\n",
      "s710               40.728578\n",
      "l509               41.483008\n",
      "r944               41.581521\n",
      "i557               47.685963\n",
      "r157               46.539206\n",
      "----------------------------\n",
      "Final Tumor Volume: Ramicane\n",
      "----------------------------\n",
      "          Tumor Volume (mm3)\n",
      "Mouse ID                    \n",
      "k403               22.050126\n",
      "g791               29.128472\n",
      "s508               30.276232\n",
      "m546               30.564625\n",
      "z578               30.638696\n",
      "j913               31.560470\n",
      "n364               31.095335\n",
      "c758               33.397653\n",
      "a644               32.978522\n",
      "i177               33.562402\n",
      "j989               36.134852\n",
      "a520               38.810366\n",
      "r811               37.225650\n",
      "i334               36.374510\n",
      "q610               36.561652\n",
      "d251               37.311236\n",
      "c458               38.342008\n",
      "a411               38.407618\n",
      "e662               40.659006\n",
      "u196               40.667713\n",
      "q597               45.220869\n",
      "a444               43.047543\n",
      "r921               43.419381\n",
      "w678               43.166373\n",
      "y449               44.183451\n",
      "-----------------------------\n",
      "Final Tumor Volume: Infubinol\n",
      "-----------------------------\n",
      "          Tumor Volume (mm3)\n",
      "Mouse ID                    \n",
      "a203               67.973419\n",
      "a251               65.525743\n",
      "a577               57.031862\n",
      "a685               66.083066\n",
      "c139               72.226731\n",
      "c326               36.321346\n",
      "c895               60.969711\n",
      "e476               62.435404\n",
      "f345               60.918767\n",
      "i386               67.289621\n",
      "k483               66.196912\n",
      "k804               62.117279\n",
      "m756               47.010364\n",
      "n671               60.165180\n",
      "o809               55.629428\n",
      "o813               45.699331\n",
      "q132               54.656549\n",
      "s121               55.650681\n",
      "v339               46.250112\n",
      "v719               54.048608\n",
      "v766               51.542431\n",
      "w193               50.005138\n",
      "w584               58.268442\n",
      "y163               67.685569\n",
      "z581               62.754451\n",
      "----------------------------\n",
      "Final Tumor Volume: Ceftamin\n",
      "----------------------------\n",
      "          Tumor Volume (mm3)\n",
      "Mouse ID                    \n",
      "a275               62.999356\n",
      "b447               45.000000\n",
      "b487               56.057749\n",
      "b759               55.742829\n",
      "f436               48.722078\n",
      "h531               47.784682\n",
      "j296               61.849023\n",
      "k210               68.923185\n",
      "l471               67.748662\n",
      "l490               57.918381\n",
      "l558               46.784535\n",
      "l661               59.851956\n",
      "l733               64.299830\n",
      "o287               59.741901\n",
      "p438               61.433892\n",
      "q483               64.192341\n",
      "t573               45.000000\n",
      "u149               52.925348\n",
      "u153               45.000000\n",
      "w151               67.527482\n",
      "x226               45.000000\n",
      "x581               64.634949\n",
      "x822               61.386660\n",
      "y769               68.594745\n",
      "y865               64.729837\n"
     ]
    }
   ],
   "source": [
    "# Calculate the final tumor volume of each mouse across four of the most \n",
    "# ...promising treatment regimens. Calculate the IQR and quantitatively \n",
    "# ...determine if there are any potential outliers. \n",
    "# (Capomulin, Ramicane, Infubinol, and Ceftamin)\n",
    "cleanmouse_df2 = cleanmouse_df.drop_duplicates(['Mouse ID'], keep = 'last')\n",
    "drug_capomulin = cleanmouse_df2.loc[cleanmouse_df2['Drug Regimen']=='Capomulin']\n",
    "drug_ramicane = cleanmouse_df2.loc[cleanmouse_df2['Drug Regimen']=='Ramicane']\n",
    "drug_infubinol = cleanmouse_df2.loc[cleanmouse_df2['Drug Regimen']=='Infubinol']\n",
    "drug_ceftamin = cleanmouse_df2.loc[cleanmouse_df2['Drug Regimen']=='Ceftamin']\n",
    "tumor_capomulin = drug_capomulin.set_index(['Mouse ID'])\n",
    "tumor_capomulin = tumor_capomulin['Tumor Volume (mm3)'].to_frame()\n",
    "tumor_ramicane = drug_ramicane.set_index(['Mouse ID'])\n",
    "tumor_ramicane = tumor_ramicane['Tumor Volume (mm3)'].to_frame()\n",
    "tumor_infubinol = drug_infubinol.set_index(['Mouse ID'])\n",
    "tumor_infubinol = tumor_infubinol['Tumor Volume (mm3)'].to_frame()\n",
    "tumor_ceftamin = drug_ceftamin.set_index(['Mouse ID'])\n",
    "tumor_ceftamin = tumor_ceftamin['Tumor Volume (mm3)'].to_frame()\n",
    "print('-----------------------------')\n",
    "print('Final Tumor Volume: Capomulin')\n",
    "print('-----------------------------')\n",
    "print(tumor_capomulin)\n",
    "print('----------------------------')\n",
    "print('Final Tumor Volume: Ramicane')\n",
    "print('----------------------------')\n",
    "print(tumor_ramicane)\n",
    "print('-----------------------------')\n",
    "print('Final Tumor Volume: Infubinol')\n",
    "print('-----------------------------')\n",
    "print(tumor_infubinol)\n",
    "print('----------------------------')\n",
    "print('Final Tumor Volume: Ceftamin')\n",
    "print('----------------------------')\n",
    "print(tumor_ceftamin)"
   ]
  },
  {
   "cell_type": "code",
   "execution_count": 17,
   "metadata": {},
   "outputs": [
    {
     "name": "stdout",
     "output_type": "stream",
     "text": [
      "CAPOMULIN:\n",
      "The lower quartile of Capomulin Tumor is: 32.37735684\n",
      "The upper quartile of Capomulin Tumor is: 40.1592203\n",
      "The interquartile range of Capomulin Tumor is: 7.781863460000004\n",
      "The the median of Capomulin Tumor is: 38.125164399999996 \n",
      "Values below 20.70456164999999 could be outliers.\n",
      "Values above 51.83201549 could be outliers.\n",
      "-------------------------------------------\n",
      "Outliers:\n"
     ]
    },
    {
     "data": {
      "text/html": [
       "<div>\n",
       "<style scoped>\n",
       "    .dataframe tbody tr th:only-of-type {\n",
       "        vertical-align: middle;\n",
       "    }\n",
       "\n",
       "    .dataframe tbody tr th {\n",
       "        vertical-align: top;\n",
       "    }\n",
       "\n",
       "    .dataframe thead th {\n",
       "        text-align: right;\n",
       "    }\n",
       "</style>\n",
       "<table border=\"1\" class=\"dataframe\">\n",
       "  <thead>\n",
       "    <tr style=\"text-align: right;\">\n",
       "      <th></th>\n",
       "      <th>Tumor Volume (mm3)</th>\n",
       "    </tr>\n",
       "    <tr>\n",
       "      <th>Mouse ID</th>\n",
       "      <th></th>\n",
       "    </tr>\n",
       "  </thead>\n",
       "  <tbody>\n",
       "  </tbody>\n",
       "</table>\n",
       "</div>"
      ],
      "text/plain": [
       "Empty DataFrame\n",
       "Columns: [Tumor Volume (mm3)]\n",
       "Index: []"
      ]
     },
     "execution_count": 17,
     "metadata": {},
     "output_type": "execute_result"
    }
   ],
   "source": [
    "# CAPOMULIN\n",
    "quartiles = tumor_capomulin['Tumor Volume (mm3)'].quantile([.25,.5,.75])\n",
    "lowerq = quartiles[0.25]\n",
    "upperq = quartiles[0.75]\n",
    "iqr = upperq-lowerq\n",
    "print('CAPOMULIN:')\n",
    "print(f\"The lower quartile of Capomulin Tumor is: {lowerq}\")\n",
    "print(f\"The upper quartile of Capomulin Tumor is: {upperq}\")\n",
    "print(f\"The interquartile range of Capomulin Tumor is: {iqr}\")\n",
    "print(f\"The the median of Capomulin Tumor is: {quartiles[0.5]} \")\n",
    "lower_bound = lowerq - (1.5*iqr)\n",
    "upper_bound = upperq + (1.5*iqr)\n",
    "print(f\"Values below {lower_bound} could be outliers.\")\n",
    "print(f\"Values above {upper_bound} could be outliers.\")\n",
    "outlier_capomulin = tumor_capomulin.loc[(tumor_capomulin['Tumor Volume (mm3)']\n",
    "                                         < lower_bound) | \n",
    "                                        (tumor_capomulin['Tumor Volume (mm3)'] \n",
    "                                         > upper_bound)]\n",
    "print('-------------------------------------------')\n",
    "print('Outliers:')\n",
    "outlier_capomulin"
   ]
  },
  {
   "cell_type": "code",
   "execution_count": 18,
   "metadata": {},
   "outputs": [
    {
     "name": "stdout",
     "output_type": "stream",
     "text": [
      "RAMICANE:\n",
      "The lower quartile of Ramicane Tumor is: 31.56046955\n",
      "The upper quartile of Ramicane Tumor is: 40.65900627\n",
      "The interquartile range of Ramicane Tumor is: 9.098536719999998\n",
      "The the median of Ramicane Tumor is: 36.56165229 \n",
      "Values below 17.912664470000003 could be outliers.\n",
      "Values above 54.30681135 could be outliers.\n",
      "-------------------------------------------\n",
      "Outliers:\n"
     ]
    },
    {
     "data": {
      "text/html": [
       "<div>\n",
       "<style scoped>\n",
       "    .dataframe tbody tr th:only-of-type {\n",
       "        vertical-align: middle;\n",
       "    }\n",
       "\n",
       "    .dataframe tbody tr th {\n",
       "        vertical-align: top;\n",
       "    }\n",
       "\n",
       "    .dataframe thead th {\n",
       "        text-align: right;\n",
       "    }\n",
       "</style>\n",
       "<table border=\"1\" class=\"dataframe\">\n",
       "  <thead>\n",
       "    <tr style=\"text-align: right;\">\n",
       "      <th></th>\n",
       "      <th>Tumor Volume (mm3)</th>\n",
       "    </tr>\n",
       "    <tr>\n",
       "      <th>Mouse ID</th>\n",
       "      <th></th>\n",
       "    </tr>\n",
       "  </thead>\n",
       "  <tbody>\n",
       "  </tbody>\n",
       "</table>\n",
       "</div>"
      ],
      "text/plain": [
       "Empty DataFrame\n",
       "Columns: [Tumor Volume (mm3)]\n",
       "Index: []"
      ]
     },
     "execution_count": 18,
     "metadata": {},
     "output_type": "execute_result"
    }
   ],
   "source": [
    "# RAMICANE\n",
    "quartiles2 = tumor_ramicane['Tumor Volume (mm3)'].quantile([.25,.5,.75])\n",
    "lowerq2 = quartiles2[0.25]\n",
    "upperq2 = quartiles2[0.75]\n",
    "iqr2 = upperq2-lowerq2\n",
    "print('RAMICANE:')\n",
    "print(f\"The lower quartile of Ramicane Tumor is: {lowerq2}\")\n",
    "print(f\"The upper quartile of Ramicane Tumor is: {upperq2}\")\n",
    "print(f\"The interquartile range of Ramicane Tumor is: {iqr2}\")\n",
    "print(f\"The the median of Ramicane Tumor is: {quartiles2[0.5]} \")\n",
    "lower_bound2 = lowerq2 - (1.5*iqr2)\n",
    "upper_bound2 = upperq2 + (1.5*iqr2)\n",
    "print(f\"Values below {lower_bound2} could be outliers.\")\n",
    "print(f\"Values above {upper_bound2} could be outliers.\")\n",
    "outlier_ramicane = tumor_ramicane.loc[(tumor_ramicane['Tumor Volume (mm3)']\n",
    "                                         < lower_bound2) | \n",
    "                                        (tumor_ramicane['Tumor Volume (mm3)'] \n",
    "                                         > upper_bound2)]\n",
    "print('-------------------------------------------')\n",
    "print('Outliers:')\n",
    "outlier_ramicane"
   ]
  },
  {
   "cell_type": "code",
   "execution_count": 19,
   "metadata": {},
   "outputs": [
    {
     "name": "stdout",
     "output_type": "stream",
     "text": [
      "INFUBINOL:\n",
      "The lower quartile of Infubinol Tumor is: 54.04860769\n",
      "The upper quartile of Infubinol Tumor is: 65.52574285\n",
      "The interquartile range of Infubinol Tumor is: 11.477135160000003\n",
      "The the median of Infubinol Tumor is: 60.16518046 \n",
      "Values below 36.83290494999999 could be outliers.\n",
      "Values above 82.74144559000001 could be outliers.\n",
      "-------------------------------------------------\n",
      "Outliers:\n"
     ]
    },
    {
     "data": {
      "text/html": [
       "<div>\n",
       "<style scoped>\n",
       "    .dataframe tbody tr th:only-of-type {\n",
       "        vertical-align: middle;\n",
       "    }\n",
       "\n",
       "    .dataframe tbody tr th {\n",
       "        vertical-align: top;\n",
       "    }\n",
       "\n",
       "    .dataframe thead th {\n",
       "        text-align: right;\n",
       "    }\n",
       "</style>\n",
       "<table border=\"1\" class=\"dataframe\">\n",
       "  <thead>\n",
       "    <tr style=\"text-align: right;\">\n",
       "      <th></th>\n",
       "      <th>Tumor Volume (mm3)</th>\n",
       "    </tr>\n",
       "    <tr>\n",
       "      <th>Mouse ID</th>\n",
       "      <th></th>\n",
       "    </tr>\n",
       "  </thead>\n",
       "  <tbody>\n",
       "    <tr>\n",
       "      <th>c326</th>\n",
       "      <td>36.321346</td>\n",
       "    </tr>\n",
       "  </tbody>\n",
       "</table>\n",
       "</div>"
      ],
      "text/plain": [
       "          Tumor Volume (mm3)\n",
       "Mouse ID                    \n",
       "c326               36.321346"
      ]
     },
     "execution_count": 19,
     "metadata": {},
     "output_type": "execute_result"
    }
   ],
   "source": [
    "# INFUBINOL\n",
    "quartiles3 = tumor_infubinol['Tumor Volume (mm3)'].quantile([.25,.5,.75])\n",
    "lowerq3 = quartiles3[0.25]\n",
    "upperq3 = quartiles3[0.75]\n",
    "iqr3 = upperq3-lowerq3\n",
    "print('INFUBINOL:')\n",
    "print(f\"The lower quartile of Infubinol Tumor is: {lowerq3}\")\n",
    "print(f\"The upper quartile of Infubinol Tumor is: {upperq3}\")\n",
    "print(f\"The interquartile range of Infubinol Tumor is: {iqr3}\")\n",
    "print(f\"The the median of Infubinol Tumor is: {quartiles3[0.5]} \")\n",
    "lower_bound3 = lowerq3 - (1.5*iqr3)\n",
    "upper_bound3 = upperq3 + (1.5*iqr3)\n",
    "print(f\"Values below {lower_bound3} could be outliers.\")\n",
    "print(f\"Values above {upper_bound3} could be outliers.\")\n",
    "outlier_infubinol = tumor_infubinol.loc[(tumor_infubinol['Tumor Volume (mm3)']\n",
    "                                         < lower_bound3) | \n",
    "                                        (tumor_infubinol['Tumor Volume (mm3)'] \n",
    "                                         > upper_bound3)]\n",
    "print('-------------------------------------------------')\n",
    "print('Outliers:')\n",
    "outlier_infubinol"
   ]
  },
  {
   "cell_type": "code",
   "execution_count": 20,
   "metadata": {},
   "outputs": [
    {
     "name": "stdout",
     "output_type": "stream",
     "text": [
      "CEFTAMIN:\n",
      "The lower quartile of Ceftamin Tumor is: 48.72207785\n",
      "The upper quartile of Ceftamin Tumor is: 64.29983003\n",
      "The interquartile range of Ceftamin Tumor is: 15.577752179999997\n",
      "The the median of Ceftamin Tumor is: 59.85195552 \n",
      "Values below 25.355449580000002 could be outliers.\n",
      "Values above 87.66645829999999 could be outliers.\n",
      "-------------------------------------------------\n",
      "Outliers:\n"
     ]
    },
    {
     "data": {
      "text/html": [
       "<div>\n",
       "<style scoped>\n",
       "    .dataframe tbody tr th:only-of-type {\n",
       "        vertical-align: middle;\n",
       "    }\n",
       "\n",
       "    .dataframe tbody tr th {\n",
       "        vertical-align: top;\n",
       "    }\n",
       "\n",
       "    .dataframe thead th {\n",
       "        text-align: right;\n",
       "    }\n",
       "</style>\n",
       "<table border=\"1\" class=\"dataframe\">\n",
       "  <thead>\n",
       "    <tr style=\"text-align: right;\">\n",
       "      <th></th>\n",
       "      <th>Tumor Volume (mm3)</th>\n",
       "    </tr>\n",
       "    <tr>\n",
       "      <th>Mouse ID</th>\n",
       "      <th></th>\n",
       "    </tr>\n",
       "  </thead>\n",
       "  <tbody>\n",
       "  </tbody>\n",
       "</table>\n",
       "</div>"
      ],
      "text/plain": [
       "Empty DataFrame\n",
       "Columns: [Tumor Volume (mm3)]\n",
       "Index: []"
      ]
     },
     "execution_count": 20,
     "metadata": {},
     "output_type": "execute_result"
    }
   ],
   "source": [
    "# CEFTAMIN\n",
    "quartiles4 = tumor_ceftamin['Tumor Volume (mm3)'].quantile([.25,.5,.75])\n",
    "lowerq4 = quartiles4[0.25]\n",
    "upperq4 = quartiles4[0.75]\n",
    "iqr4 = upperq4-lowerq4\n",
    "print('CEFTAMIN:')\n",
    "print(f\"The lower quartile of Ceftamin Tumor is: {lowerq4}\")\n",
    "print(f\"The upper quartile of Ceftamin Tumor is: {upperq4}\")\n",
    "print(f\"The interquartile range of Ceftamin Tumor is: {iqr4}\")\n",
    "print(f\"The the median of Ceftamin Tumor is: {quartiles4[0.5]} \")\n",
    "lower_bound4 = lowerq4 - (1.5*iqr4)\n",
    "upper_bound4 = upperq4 + (1.5*iqr4)\n",
    "print(f\"Values below {lower_bound4} could be outliers.\")\n",
    "print(f\"Values above {upper_bound4} could be outliers.\")\n",
    "outlier_ceftamin = tumor_ceftamin.loc[(tumor_ceftamin['Tumor Volume (mm3)']\n",
    "                                         < lower_bound4) | \n",
    "                                        (tumor_ceftamin['Tumor Volume (mm3)'] \n",
    "                                         > upper_bound4)]\n",
    "print('-------------------------------------------------')\n",
    "print('Outliers:')\n",
    "outlier_ceftamin"
   ]
  },
  {
   "cell_type": "code",
   "execution_count": 21,
   "metadata": {},
   "outputs": [
    {
     "data": {
      "image/png": "[encoded data removed]",
      "text/plain": [
       "<Figure size 720x576 with 1 Axes>"
      ]
     },
     "metadata": {
      "needs_background": "light"
     },
     "output_type": "display_data"
    }
   ],
   "source": [
    "# Generate a box plot of the final tumor volume of each mouse across four \n",
    "# ...regimens of interest (Capomulin, Ramicane, Infubinol, and Ceftamin)\n",
    "rcParams['figure.figsize'] = 10, 8\n",
    "plot1 = tumor_capomulin['Tumor Volume (mm3)']\n",
    "plot2 = tumor_ramicane['Tumor Volume (mm3)']\n",
    "plot3 = tumor_infubinol['Tumor Volume (mm3)']\n",
    "plot4 = tumor_ceftamin['Tumor Volume (mm3)']\n",
    "plot_data = [plot1, plot2, plot3, plot4]\n",
    "fig1, ax1 = plt.subplots()\n",
    "flierprops = dict(marker='o', markerfacecolor='yellow', markersize=10,\n",
    "                  linestyle='none')\n",
    "ax1.set_title('Tumor Volume across Top Four Regiments')\n",
    "ax1.set_ylabel('Final Tumor Volume (mm3)')\n",
    "ax1.set_xlabel('Drug Regimen')\n",
    "ax1.boxplot(plot_data, flierprops = flierprops)\n",
    "plt.xticks([1, 2, 3, 4], ['Capomulin', 'Ramicane', 'Infubinol', 'Ceftamin'])\n",
    "plt.show()"
   ]
  },
  {
   "cell_type": "markdown",
   "metadata": {},
   "source": [
    "## Line and Scatter Plots"
   ]
  },
  {
   "cell_type": "code",
   "execution_count": 22,
   "metadata": {},
   "outputs": [
    {
     "data": {
      "image/png": "[encoded data removed]",
      "text/plain": [
       "<Figure size 720x432 with 1 Axes>"
      ]
     },
     "metadata": {
      "needs_background": "light"
     },
     "output_type": "display_data"
    }
   ],
   "source": [
    "# Generate a line plot of time point versus tumor volume for a mouse \n",
    "# ...treated with Capomulin\n",
    "rcParams['figure.figsize'] = 10, 6\n",
    "capomulin_mice = cleanmouse_df.loc[cleanmouse_df['Drug Regimen']=='Capomulin']\n",
    "capomulin_mouce = capomulin_mice.loc[capomulin_mice['Mouse ID']=='s185']\n",
    "x_axis = capomulin_mouce['Timepoint']\n",
    "y_axis = capomulin_mouce['Tumor Volume (mm3)']\n",
    "plt.xlabel('Timepoint')\n",
    "plt.ylabel('Tumor Volume (mm3)')\n",
    "plt.plot(x_axis, y_axis)\n",
    "plt.title('Time vs Tumor: Capomulin Mouse')\n",
    "plt.show()"
   ]
  },
  {
   "cell_type": "code",
   "execution_count": 23,
   "metadata": {},
   "outputs": [
    {
     "data": {
      "image/png": "[encoded data removed]",
      "text/plain": [
       "<Figure size 720x576 with 1 Axes>"
      ]
     },
     "metadata": {
      "needs_background": "light"
     },
     "output_type": "display_data"
    }
   ],
   "source": [
    "# Generate a scatter plot of mouse weight versus average tumor volume \n",
    "# ...for the Capomulin regimen\n",
    "rcParams['figure.figsize'] = 10, 8\n",
    "capomulin_mice = cleanmouse_df.loc[cleanmouse_df['Drug Regimen']=='Capomulin']\n",
    "x_axis = capomulin_mice['Weight (g)']\n",
    "y_axis = capomulin_mice['Tumor Volume (mm3)']\n",
    "plt.title('Weight vs Tumor: Capomulin Mice')\n",
    "plt.xlabel('Weight (g)')\n",
    "plt.ylabel('Tumor Volume (mm3)')\n",
    "plt.xticks(np.arange(min(x_axis)-1, max(x_axis)+1, 1.0))\n",
    "plt.scatter(x_axis, y_axis, marker=\"o\", facecolors=\"yellow\", edgecolors=\"black\",\n",
    "            s=x_axis, alpha=.6)\n",
    "plt.show()"
   ]
  },
  {
   "cell_type": "markdown",
   "metadata": {},
   "source": [
    "## Correlation and Regression"
   ]
  },
  {
   "cell_type": "code",
   "execution_count": 24,
   "metadata": {},
   "outputs": [
    {
     "data": {
      "image/png": "[encoded data removed]",
      "text/plain": [
       "<Figure size 720x504 with 1 Axes>"
      ]
     },
     "metadata": {
      "needs_background": "light"
     },
     "output_type": "display_data"
    },
    {
     "name": "stdout",
     "output_type": "stream",
     "text": [
      "The correlation between both factors is 0.84\n",
      "The r-squared is: 0.7088568047708717\n"
     ]
    }
   ],
   "source": [
    "# Calculate the correlation coefficient and linear regression model \n",
    "# for mouse weight and average tumor volume for the Capomulin regimen\n",
    "rcParams['figure.figsize'] = 10, 7\n",
    "capo_avg = capomulin_mice.groupby(['Mouse ID']).mean().reset_index()\n",
    "capo_weight = capo_avg.iloc[:,2]\n",
    "capo_tv = capo_avg.iloc[:,4]\n",
    "(slope, intercept, rvalue, pvalue, stderr) = linregress(capo_weight, capo_tv)\n",
    "regress_values = capo_weight * slope + intercept\n",
    "line_eq = \"y = \" + str(round(slope,2)) + \"x + \" + str(round(intercept,2))\n",
    "correlation = st.pearsonr(capo_weight,capo_tv)\n",
    "plt.scatter(capo_weight,capo_tv)\n",
    "plt.plot(capo_weight,regress_values,\"r-\")\n",
    "plt.annotate(line_eq,(20,37),fontsize=25,color=\"red\")\n",
    "plt.title('Linear Regression\\nCapomulin Regimen: Mouse Weight vs Tumor Volume')\n",
    "plt.xlabel('Weight (g)')\n",
    "plt.ylabel('Average Tumor Volume (mm3)')\n",
    "plt.show()\n",
    "print(f\"The correlation between both factors is {round(correlation[0],2)}\")\n",
    "print(f\"The r-squared is: {rvalue**2}\")"
   ]
  },
  {
   "cell_type": "code",
   "execution_count": null,
   "metadata": {},
   "outputs": [],
   "source": []
  }
 ],
 "metadata": {
  "anaconda-cloud": {},
  "kernelspec": {
   "display_name": "Python [conda env:PythonData] *",
   "language": "python",
   "name": "conda-env-PythonData-py"
  },
  "language_info": {
   "codemirror_mode": {
    "name": "ipython",
    "version": 3
   },
   "file_extension": ".py",
   "mimetype": "text/x-python",
   "name": "python",
   "nbconvert_exporter": "python",
   "pygments_lexer": "ipython3",
   "version": "3.8.2"
  }
 },
 "nbformat": 4,
 "nbformat_minor": 2
}
